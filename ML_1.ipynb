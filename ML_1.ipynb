{
  "nbformat": 4,
  "nbformat_minor": 0,
  "metadata": {
    "colab": {
      "provenance": [],
      "authorship_tag": "ABX9TyM+d5ycvMr9xEKfe7rqSh5t",
      "include_colab_link": true
    },
    "kernelspec": {
      "name": "python3",
      "display_name": "Python 3"
    },
    "language_info": {
      "name": "python"
    }
  },
  "cells": [
    {
      "cell_type": "markdown",
      "metadata": {
        "id": "view-in-github",
        "colab_type": "text"
      },
      "source": [
        "<a href=\"https://colab.research.google.com/github/ZohrehFeridoun/ML_ex1/blob/main/ML_1.ipynb\" target=\"_parent\"><img src=\"https://colab.research.google.com/assets/colab-badge.svg\" alt=\"Open In Colab\"/></a>"
      ]
    },
    {
      "cell_type": "code",
      "execution_count": null,
      "metadata": {
        "id": "tDe00GBaHglA"
      },
      "outputs": [],
      "source": []
    },
    {
      "cell_type": "markdown",
      "metadata": {
        "id": "e7501217-4aca-496a-bd73-df77ae12f940"
      },
      "source": [
        "# <h1> 0) Import libraries"
      ]
    },
    {
      "cell_type": "markdown",
      "source": [],
      "metadata": {
        "id": "NQ--ACFpHAh5"
      }
    },
    {
      "cell_type": "code",
      "source": [],
      "metadata": {
        "id": "ryjBwhnhHB6s"
      },
      "execution_count": null,
      "outputs": []
    },
    {
      "cell_type": "code",
      "execution_count": null,
      "metadata": {
        "id": "c1c447a8-d90e-4a57-ab70-96a3201f1d82"
      },
      "outputs": [],
      "source": [
        "import numpy as np\n",
        "import pandas as pd\n",
        "import matplotlib.pyplot as plt\n",
        "import sklearn"
      ]
    },
    {
      "cell_type": "markdown",
      "metadata": {
        "id": "5731cd86-0165-4e23-8f0c-80af4bb8d948"
      },
      "source": [
        "<h1> PART1"
      ]
    },
    {
      "cell_type": "markdown",
      "metadata": {
        "id": "96587470-f9ab-45bd-b3a2-6a7bef000e91"
      },
      "source": [
        "<h2> 1) Loading dataset"
      ]
    },
    {
      "cell_type": "code",
      "execution_count": null,
      "metadata": {
        "colab": {
          "base_uri": "https://localhost:8080/",
          "height": 424
        },
        "id": "019679cc-7381-4a01-a12f-8890ef33d8c1",
        "outputId": "18a7ba66-1542-4c82-8abb-3da985a651fa"
      },
      "outputs": [
        {
          "output_type": "execute_result",
          "data": {
            "text/plain": [
              "                city      lat     lng iso2  density  population  ranking\n",
              "0        Saint-Oblas  45.5674  5.0447   FR    129.2         NaN        4\n",
              "1           Louresse  47.2394 -0.3136   FR      NaN       872.0        3\n",
              "2              Olmet  45.7100  3.6614   FR     10.4       161.0        3\n",
              "3              Olmet  44.9542  2.6108   FR     71.0         NaN        4\n",
              "4        Gottenhouse  48.7208  7.3611   FR    305.6       382.0        3\n",
              "...              ...      ...     ...  ...      ...         ...      ...\n",
              "59059    La Rochette  45.2609  6.2881   FR     55.5         NaN        4\n",
              "59060    La Rochette  45.3056  3.4747   FR     14.4         NaN        4\n",
              "59061  Saint-Eutrope  45.4181  0.1114   FR     62.9       168.0        3\n",
              "59062  Saint-Eutrope  44.4535  0.5204   FR     34.2         NaN        4\n",
              "59063        Taillis  48.1889 -1.2389   FR     81.2       996.0        3\n",
              "\n",
              "[59064 rows x 7 columns]"
            ],
            "text/html": [
              "\n",
              "  <div id=\"df-f0047663-19d7-4c18-8148-2251300f84da\">\n",
              "    <div class=\"colab-df-container\">\n",
              "      <div>\n",
              "<style scoped>\n",
              "    .dataframe tbody tr th:only-of-type {\n",
              "        vertical-align: middle;\n",
              "    }\n",
              "\n",
              "    .dataframe tbody tr th {\n",
              "        vertical-align: top;\n",
              "    }\n",
              "\n",
              "    .dataframe thead th {\n",
              "        text-align: right;\n",
              "    }\n",
              "</style>\n",
              "<table border=\"1\" class=\"dataframe\">\n",
              "  <thead>\n",
              "    <tr style=\"text-align: right;\">\n",
              "      <th></th>\n",
              "      <th>city</th>\n",
              "      <th>lat</th>\n",
              "      <th>lng</th>\n",
              "      <th>iso2</th>\n",
              "      <th>density</th>\n",
              "      <th>population</th>\n",
              "      <th>ranking</th>\n",
              "    </tr>\n",
              "  </thead>\n",
              "  <tbody>\n",
              "    <tr>\n",
              "      <th>0</th>\n",
              "      <td>Saint-Oblas</td>\n",
              "      <td>45.5674</td>\n",
              "      <td>5.0447</td>\n",
              "      <td>FR</td>\n",
              "      <td>129.2</td>\n",
              "      <td>NaN</td>\n",
              "      <td>4</td>\n",
              "    </tr>\n",
              "    <tr>\n",
              "      <th>1</th>\n",
              "      <td>Louresse</td>\n",
              "      <td>47.2394</td>\n",
              "      <td>-0.3136</td>\n",
              "      <td>FR</td>\n",
              "      <td>NaN</td>\n",
              "      <td>872.0</td>\n",
              "      <td>3</td>\n",
              "    </tr>\n",
              "    <tr>\n",
              "      <th>2</th>\n",
              "      <td>Olmet</td>\n",
              "      <td>45.7100</td>\n",
              "      <td>3.6614</td>\n",
              "      <td>FR</td>\n",
              "      <td>10.4</td>\n",
              "      <td>161.0</td>\n",
              "      <td>3</td>\n",
              "    </tr>\n",
              "    <tr>\n",
              "      <th>3</th>\n",
              "      <td>Olmet</td>\n",
              "      <td>44.9542</td>\n",
              "      <td>2.6108</td>\n",
              "      <td>FR</td>\n",
              "      <td>71.0</td>\n",
              "      <td>NaN</td>\n",
              "      <td>4</td>\n",
              "    </tr>\n",
              "    <tr>\n",
              "      <th>4</th>\n",
              "      <td>Gottenhouse</td>\n",
              "      <td>48.7208</td>\n",
              "      <td>7.3611</td>\n",
              "      <td>FR</td>\n",
              "      <td>305.6</td>\n",
              "      <td>382.0</td>\n",
              "      <td>3</td>\n",
              "    </tr>\n",
              "    <tr>\n",
              "      <th>...</th>\n",
              "      <td>...</td>\n",
              "      <td>...</td>\n",
              "      <td>...</td>\n",
              "      <td>...</td>\n",
              "      <td>...</td>\n",
              "      <td>...</td>\n",
              "      <td>...</td>\n",
              "    </tr>\n",
              "    <tr>\n",
              "      <th>59059</th>\n",
              "      <td>La Rochette</td>\n",
              "      <td>45.2609</td>\n",
              "      <td>6.2881</td>\n",
              "      <td>FR</td>\n",
              "      <td>55.5</td>\n",
              "      <td>NaN</td>\n",
              "      <td>4</td>\n",
              "    </tr>\n",
              "    <tr>\n",
              "      <th>59060</th>\n",
              "      <td>La Rochette</td>\n",
              "      <td>45.3056</td>\n",
              "      <td>3.4747</td>\n",
              "      <td>FR</td>\n",
              "      <td>14.4</td>\n",
              "      <td>NaN</td>\n",
              "      <td>4</td>\n",
              "    </tr>\n",
              "    <tr>\n",
              "      <th>59061</th>\n",
              "      <td>Saint-Eutrope</td>\n",
              "      <td>45.4181</td>\n",
              "      <td>0.1114</td>\n",
              "      <td>FR</td>\n",
              "      <td>62.9</td>\n",
              "      <td>168.0</td>\n",
              "      <td>3</td>\n",
              "    </tr>\n",
              "    <tr>\n",
              "      <th>59062</th>\n",
              "      <td>Saint-Eutrope</td>\n",
              "      <td>44.4535</td>\n",
              "      <td>0.5204</td>\n",
              "      <td>FR</td>\n",
              "      <td>34.2</td>\n",
              "      <td>NaN</td>\n",
              "      <td>4</td>\n",
              "    </tr>\n",
              "    <tr>\n",
              "      <th>59063</th>\n",
              "      <td>Taillis</td>\n",
              "      <td>48.1889</td>\n",
              "      <td>-1.2389</td>\n",
              "      <td>FR</td>\n",
              "      <td>81.2</td>\n",
              "      <td>996.0</td>\n",
              "      <td>3</td>\n",
              "    </tr>\n",
              "  </tbody>\n",
              "</table>\n",
              "<p>59064 rows × 7 columns</p>\n",
              "</div>\n",
              "      <button class=\"colab-df-convert\" onclick=\"convertToInteractive('df-f0047663-19d7-4c18-8148-2251300f84da')\"\n",
              "              title=\"Convert this dataframe to an interactive table.\"\n",
              "              style=\"display:none;\">\n",
              "        \n",
              "  <svg xmlns=\"http://www.w3.org/2000/svg\" height=\"24px\"viewBox=\"0 0 24 24\"\n",
              "       width=\"24px\">\n",
              "    <path d=\"M0 0h24v24H0V0z\" fill=\"none\"/>\n",
              "    <path d=\"M18.56 5.44l.94 2.06.94-2.06 2.06-.94-2.06-.94-.94-2.06-.94 2.06-2.06.94zm-11 1L8.5 8.5l.94-2.06 2.06-.94-2.06-.94L8.5 2.5l-.94 2.06-2.06.94zm10 10l.94 2.06.94-2.06 2.06-.94-2.06-.94-.94-2.06-.94 2.06-2.06.94z\"/><path d=\"M17.41 7.96l-1.37-1.37c-.4-.4-.92-.59-1.43-.59-.52 0-1.04.2-1.43.59L10.3 9.45l-7.72 7.72c-.78.78-.78 2.05 0 2.83L4 21.41c.39.39.9.59 1.41.59.51 0 1.02-.2 1.41-.59l7.78-7.78 2.81-2.81c.8-.78.8-2.07 0-2.86zM5.41 20L4 18.59l7.72-7.72 1.47 1.35L5.41 20z\"/>\n",
              "  </svg>\n",
              "      </button>\n",
              "      \n",
              "  <style>\n",
              "    .colab-df-container {\n",
              "      display:flex;\n",
              "      flex-wrap:wrap;\n",
              "      gap: 12px;\n",
              "    }\n",
              "\n",
              "    .colab-df-convert {\n",
              "      background-color: #E8F0FE;\n",
              "      border: none;\n",
              "      border-radius: 50%;\n",
              "      cursor: pointer;\n",
              "      display: none;\n",
              "      fill: #1967D2;\n",
              "      height: 32px;\n",
              "      padding: 0 0 0 0;\n",
              "      width: 32px;\n",
              "    }\n",
              "\n",
              "    .colab-df-convert:hover {\n",
              "      background-color: #E2EBFA;\n",
              "      box-shadow: 0px 1px 2px rgba(60, 64, 67, 0.3), 0px 1px 3px 1px rgba(60, 64, 67, 0.15);\n",
              "      fill: #174EA6;\n",
              "    }\n",
              "\n",
              "    [theme=dark] .colab-df-convert {\n",
              "      background-color: #3B4455;\n",
              "      fill: #D2E3FC;\n",
              "    }\n",
              "\n",
              "    [theme=dark] .colab-df-convert:hover {\n",
              "      background-color: #434B5C;\n",
              "      box-shadow: 0px 1px 3px 1px rgba(0, 0, 0, 0.15);\n",
              "      filter: drop-shadow(0px 1px 2px rgba(0, 0, 0, 0.3));\n",
              "      fill: #FFFFFF;\n",
              "    }\n",
              "  </style>\n",
              "\n",
              "      <script>\n",
              "        const buttonEl =\n",
              "          document.querySelector('#df-f0047663-19d7-4c18-8148-2251300f84da button.colab-df-convert');\n",
              "        buttonEl.style.display =\n",
              "          google.colab.kernel.accessAllowed ? 'block' : 'none';\n",
              "\n",
              "        async function convertToInteractive(key) {\n",
              "          const element = document.querySelector('#df-f0047663-19d7-4c18-8148-2251300f84da');\n",
              "          const dataTable =\n",
              "            await google.colab.kernel.invokeFunction('convertToInteractive',\n",
              "                                                     [key], {});\n",
              "          if (!dataTable) return;\n",
              "\n",
              "          const docLinkHtml = 'Like what you see? Visit the ' +\n",
              "            '<a target=\"_blank\" href=https://colab.research.google.com/notebooks/data_table.ipynb>data table notebook</a>'\n",
              "            + ' to learn more about interactive tables.';\n",
              "          element.innerHTML = '';\n",
              "          dataTable['output_type'] = 'display_data';\n",
              "          await google.colab.output.renderOutput(dataTable, element);\n",
              "          const docLink = document.createElement('div');\n",
              "          docLink.innerHTML = docLinkHtml;\n",
              "          element.appendChild(docLink);\n",
              "        }\n",
              "      </script>\n",
              "    </div>\n",
              "  </div>\n",
              "  "
            ]
          },
          "metadata": {},
          "execution_count": 38
        }
      ],
      "source": [
        "# loading dataset from csv file using pandas\n",
        "### START CODE HERE ###\n",
        "dataset = pd.read_csv('/content/frcities.csv')\n",
        "### END OF SOLUTION ###\n",
        "dataset"
      ]
    },
    {
      "cell_type": "code",
      "execution_count": null,
      "metadata": {
        "colab": {
          "base_uri": "https://localhost:8080/"
        },
        "id": "a98ce70c-4d90-4227-98c5-f453a6a2c66f",
        "outputId": "a7675ff1-b9e7-4ee7-8f16-b9ff23fa5cea"
      },
      "outputs": [
        {
          "output_type": "execute_result",
          "data": {
            "text/plain": [
              "(59064, 7)"
            ]
          },
          "metadata": {},
          "execution_count": 39
        }
      ],
      "source": [
        "dataset.shape"
      ]
    },
    {
      "cell_type": "markdown",
      "metadata": {
        "id": "5f162095-3035-4a86-bb1f-b02378e531c5"
      },
      "source": [
        "<h2> 2) Dleting null values.</h2>\n",
        "<h5>for further calculation we need to delete rows with null values!"
      ]
    },
    {
      "cell_type": "code",
      "execution_count": null,
      "metadata": {
        "colab": {
          "base_uri": "https://localhost:8080/"
        },
        "id": "4e1f0180-d238-45e1-b8fa-7baad065ca52",
        "outputId": "e67d9099-12cd-47d0-fc6f-8c37b0584041"
      },
      "outputs": [
        {
          "output_type": "execute_result",
          "data": {
            "text/plain": [
              "(36090, 7)"
            ]
          },
          "metadata": {},
          "execution_count": 40
        }
      ],
      "source": [
        "### START CODE HERE ###\n",
        "dataset = dataset.dropna()\n",
        "### END OF SOLUTION ###\n",
        "#If there is a null value in dataset ,\n",
        "#the number of rows must have decreased after removing them.\n",
        "dataset.shape"
      ]
    },
    {
      "cell_type": "code",
      "execution_count": null,
      "metadata": {
        "colab": {
          "base_uri": "https://localhost:8080/"
        },
        "id": "fb679dd9-5426-42cd-822a-86a6d7e06fa5",
        "outputId": "c5280ce6-8425-4709-f3d1-e92ac287a1c7"
      },
      "outputs": [
        {
          "output_type": "execute_result",
          "data": {
            "text/plain": [
              "(33480, 7)"
            ]
          },
          "metadata": {},
          "execution_count": 41
        }
      ],
      "source": [
        "dataset = dataset.drop_duplicates(subset=['city'],keep='last')\n",
        "dataset.shape"
      ]
    },
    {
      "cell_type": "markdown",
      "metadata": {
        "id": "bead6c8a-d948-4a07-a759-e66352f1cd1b"
      },
      "source": [
        "<h1> PART2"
      ]
    },
    {
      "cell_type": "markdown",
      "metadata": {
        "id": "9c865eda-09a4-4c10-82ea-3d2e76843c80"
      },
      "source": [
        "<h2> 3) Visualizing data"
      ]
    },
    {
      "cell_type": "code",
      "execution_count": null,
      "metadata": {
        "colab": {
          "base_uri": "https://localhost:8080/",
          "height": 280
        },
        "id": "6495617d-4427-40f9-9330-8b6f8dbbe180",
        "outputId": "5b4211ca-56c2-4699-80fd-f2b92779022a"
      },
      "outputs": [
        {
          "output_type": "display_data",
          "data": {
            "text/plain": [
              "<Figure size 432x288 with 1 Axes>"
            ],
            "image/png": "[encoded data removed]"
          },
          "metadata": {
            "needs_background": "light"
          }
        }
      ],
      "source": [
        "### START CODE HERE ###\n",
        "plt.scatter('lat', 'lng', data=dataset, edgecolor='Purple')\n",
        "plt.xlabel('lat')\n",
        "plt.ylabel('lng')\n",
        "plt.show()\n",
        "\n",
        "### END OF SOLUTION ###"
      ]
    },
    {
      "cell_type": "markdown",
      "metadata": {
        "id": "a4411723-6653-4082-8fce-0d680fe9ebb2"
      },
      "source": [
        "<h2> 4) converting lat and long to KM"
      ]
    },
    {
      "cell_type": "code",
      "source": [
        "lat_km=[]\n",
        "lat_km = dataset['lat'].apply(lambda x: x*87)\n",
        "dataset.insert(3, 'lat_km', lat_km, True)"
      ],
      "metadata": {
        "id": "vrffnByOeRxd"
      },
      "execution_count": null,
      "outputs": []
    },
    {
      "cell_type": "code",
      "source": [
        "lng_km=[]\n",
        "lng_km = dataset['lng'].apply(lambda x: x*110)\n",
        "dataset.insert(4, 'lng_km', lng_km, True)"
      ],
      "metadata": {
        "id": "WBVOltoteSD0"
      },
      "execution_count": null,
      "outputs": []
    },
    {
      "cell_type": "code",
      "source": [
        "dataset"
      ],
      "metadata": {
        "colab": {
          "base_uri": "https://localhost:8080/",
          "height": 424
        },
        "id": "Sic61Iu8eSZv",
        "outputId": "29ac15cc-3ee7-4a91-a476-46015a6176e2"
      },
      "execution_count": null,
      "outputs": [
        {
          "output_type": "execute_result",
          "data": {
            "text/plain": [
              "                         city      lat     lng     lat_km   lng_km iso2  \\\n",
              "4                 Gottenhouse  48.7208  7.3611  4238.7096  809.721   FR   \n",
              "5                     Bergues  50.9686  2.4342  4434.2682  267.762   FR   \n",
              "7      Saint-Martin-d’Arrossa  43.2381 -1.3133  3761.7147 -144.463   FR   \n",
              "8                       Marre  49.2111  5.3019  4281.3657  583.209   FR   \n",
              "9                Neuve-Maison  49.9303  4.0325  4343.9361  443.575   FR   \n",
              "...                       ...      ...     ...        ...      ...  ...   \n",
              "59055              Neuvecelle  46.3950  6.6125  4036.3650  727.375   FR   \n",
              "59056     Cognocoli-Monticchi  41.8283  8.9058  3639.0621  979.638   FR   \n",
              "59058             La Rochette  44.9161  4.2408  3907.7007  466.488   FR   \n",
              "59061           Saint-Eutrope  45.4181  0.1114  3951.3747   12.254   FR   \n",
              "59063                 Taillis  48.1889 -1.2389  4192.4343 -136.279   FR   \n",
              "\n",
              "       density  population  ranking  \n",
              "4        305.6       382.0        3  \n",
              "5       2755.3      3637.0        2  \n",
              "7         29.2       538.0        3  \n",
              "8         16.0       163.0        3  \n",
              "9         72.9       614.0        3  \n",
              "...        ...         ...      ...  \n",
              "59055    769.0      3076.0        3  \n",
              "59056      4.8       171.0        3  \n",
              "59058      4.3        60.0        3  \n",
              "59061     62.9       168.0        3  \n",
              "59063     81.2       996.0        3  \n",
              "\n",
              "[33480 rows x 9 columns]"
            ],
            "text/html": [
              "\n",
              "  <div id=\"df-117686ca-ffd1-4b6f-a2b5-23911aa6b91b\">\n",
              "    <div class=\"colab-df-container\">\n",
              "      <div>\n",
              "<style scoped>\n",
              "    .dataframe tbody tr th:only-of-type {\n",
              "        vertical-align: middle;\n",
              "    }\n",
              "\n",
              "    .dataframe tbody tr th {\n",
              "        vertical-align: top;\n",
              "    }\n",
              "\n",
              "    .dataframe thead th {\n",
              "        text-align: right;\n",
              "    }\n",
              "</style>\n",
              "<table border=\"1\" class=\"dataframe\">\n",
              "  <thead>\n",
              "    <tr style=\"text-align: right;\">\n",
              "      <th></th>\n",
              "      <th>city</th>\n",
              "      <th>lat</th>\n",
              "      <th>lng</th>\n",
              "      <th>lat_km</th>\n",
              "      <th>lng_km</th>\n",
              "      <th>iso2</th>\n",
              "      <th>density</th>\n",
              "      <th>population</th>\n",
              "      <th>ranking</th>\n",
              "    </tr>\n",
              "  </thead>\n",
              "  <tbody>\n",
              "    <tr>\n",
              "      <th>4</th>\n",
              "      <td>Gottenhouse</td>\n",
              "      <td>48.7208</td>\n",
              "      <td>7.3611</td>\n",
              "      <td>4238.7096</td>\n",
              "      <td>809.721</td>\n",
              "      <td>FR</td>\n",
              "      <td>305.6</td>\n",
              "      <td>382.0</td>\n",
              "      <td>3</td>\n",
              "    </tr>\n",
              "    <tr>\n",
              "      <th>5</th>\n",
              "      <td>Bergues</td>\n",
              "      <td>50.9686</td>\n",
              "      <td>2.4342</td>\n",
              "      <td>4434.2682</td>\n",
              "      <td>267.762</td>\n",
              "      <td>FR</td>\n",
              "      <td>2755.3</td>\n",
              "      <td>3637.0</td>\n",
              "      <td>2</td>\n",
              "    </tr>\n",
              "    <tr>\n",
              "      <th>7</th>\n",
              "      <td>Saint-Martin-d’Arrossa</td>\n",
              "      <td>43.2381</td>\n",
              "      <td>-1.3133</td>\n",
              "      <td>3761.7147</td>\n",
              "      <td>-144.463</td>\n",
              "      <td>FR</td>\n",
              "      <td>29.2</td>\n",
              "      <td>538.0</td>\n",
              "      <td>3</td>\n",
              "    </tr>\n",
              "    <tr>\n",
              "      <th>8</th>\n",
              "      <td>Marre</td>\n",
              "      <td>49.2111</td>\n",
              "      <td>5.3019</td>\n",
              "      <td>4281.3657</td>\n",
              "      <td>583.209</td>\n",
              "      <td>FR</td>\n",
              "      <td>16.0</td>\n",
              "      <td>163.0</td>\n",
              "      <td>3</td>\n",
              "    </tr>\n",
              "    <tr>\n",
              "      <th>9</th>\n",
              "      <td>Neuve-Maison</td>\n",
              "      <td>49.9303</td>\n",
              "      <td>4.0325</td>\n",
              "      <td>4343.9361</td>\n",
              "      <td>443.575</td>\n",
              "      <td>FR</td>\n",
              "      <td>72.9</td>\n",
              "      <td>614.0</td>\n",
              "      <td>3</td>\n",
              "    </tr>\n",
              "    <tr>\n",
              "      <th>...</th>\n",
              "      <td>...</td>\n",
              "      <td>...</td>\n",
              "      <td>...</td>\n",
              "      <td>...</td>\n",
              "      <td>...</td>\n",
              "      <td>...</td>\n",
              "      <td>...</td>\n",
              "      <td>...</td>\n",
              "      <td>...</td>\n",
              "    </tr>\n",
              "    <tr>\n",
              "      <th>59055</th>\n",
              "      <td>Neuvecelle</td>\n",
              "      <td>46.3950</td>\n",
              "      <td>6.6125</td>\n",
              "      <td>4036.3650</td>\n",
              "      <td>727.375</td>\n",
              "      <td>FR</td>\n",
              "      <td>769.0</td>\n",
              "      <td>3076.0</td>\n",
              "      <td>3</td>\n",
              "    </tr>\n",
              "    <tr>\n",
              "      <th>59056</th>\n",
              "      <td>Cognocoli-Monticchi</td>\n",
              "      <td>41.8283</td>\n",
              "      <td>8.9058</td>\n",
              "      <td>3639.0621</td>\n",
              "      <td>979.638</td>\n",
              "      <td>FR</td>\n",
              "      <td>4.8</td>\n",
              "      <td>171.0</td>\n",
              "      <td>3</td>\n",
              "    </tr>\n",
              "    <tr>\n",
              "      <th>59058</th>\n",
              "      <td>La Rochette</td>\n",
              "      <td>44.9161</td>\n",
              "      <td>4.2408</td>\n",
              "      <td>3907.7007</td>\n",
              "      <td>466.488</td>\n",
              "      <td>FR</td>\n",
              "      <td>4.3</td>\n",
              "      <td>60.0</td>\n",
              "      <td>3</td>\n",
              "    </tr>\n",
              "    <tr>\n",
              "      <th>59061</th>\n",
              "      <td>Saint-Eutrope</td>\n",
              "      <td>45.4181</td>\n",
              "      <td>0.1114</td>\n",
              "      <td>3951.3747</td>\n",
              "      <td>12.254</td>\n",
              "      <td>FR</td>\n",
              "      <td>62.9</td>\n",
              "      <td>168.0</td>\n",
              "      <td>3</td>\n",
              "    </tr>\n",
              "    <tr>\n",
              "      <th>59063</th>\n",
              "      <td>Taillis</td>\n",
              "      <td>48.1889</td>\n",
              "      <td>-1.2389</td>\n",
              "      <td>4192.4343</td>\n",
              "      <td>-136.279</td>\n",
              "      <td>FR</td>\n",
              "      <td>81.2</td>\n",
              "      <td>996.0</td>\n",
              "      <td>3</td>\n",
              "    </tr>\n",
              "  </tbody>\n",
              "</table>\n",
              "<p>33480 rows × 9 columns</p>\n",
              "</div>\n",
              "      <button class=\"colab-df-convert\" onclick=\"convertToInteractive('df-117686ca-ffd1-4b6f-a2b5-23911aa6b91b')\"\n",
              "              title=\"Convert this dataframe to an interactive table.\"\n",
              "              style=\"display:none;\">\n",
              "        \n",
              "  <svg xmlns=\"http://www.w3.org/2000/svg\" height=\"24px\"viewBox=\"0 0 24 24\"\n",
              "       width=\"24px\">\n",
              "    <path d=\"M0 0h24v24H0V0z\" fill=\"none\"/>\n",
              "    <path d=\"M18.56 5.44l.94 2.06.94-2.06 2.06-.94-2.06-.94-.94-2.06-.94 2.06-2.06.94zm-11 1L8.5 8.5l.94-2.06 2.06-.94-2.06-.94L8.5 2.5l-.94 2.06-2.06.94zm10 10l.94 2.06.94-2.06 2.06-.94-2.06-.94-.94-2.06-.94 2.06-2.06.94z\"/><path d=\"M17.41 7.96l-1.37-1.37c-.4-.4-.92-.59-1.43-.59-.52 0-1.04.2-1.43.59L10.3 9.45l-7.72 7.72c-.78.78-.78 2.05 0 2.83L4 21.41c.39.39.9.59 1.41.59.51 0 1.02-.2 1.41-.59l7.78-7.78 2.81-2.81c.8-.78.8-2.07 0-2.86zM5.41 20L4 18.59l7.72-7.72 1.47 1.35L5.41 20z\"/>\n",
              "  </svg>\n",
              "      </button>\n",
              "      \n",
              "  <style>\n",
              "    .colab-df-container {\n",
              "      display:flex;\n",
              "      flex-wrap:wrap;\n",
              "      gap: 12px;\n",
              "    }\n",
              "\n",
              "    .colab-df-convert {\n",
              "      background-color: #E8F0FE;\n",
              "      border: none;\n",
              "      border-radius: 50%;\n",
              "      cursor: pointer;\n",
              "      display: none;\n",
              "      fill: #1967D2;\n",
              "      height: 32px;\n",
              "      padding: 0 0 0 0;\n",
              "      width: 32px;\n",
              "    }\n",
              "\n",
              "    .colab-df-convert:hover {\n",
              "      background-color: #E2EBFA;\n",
              "      box-shadow: 0px 1px 2px rgba(60, 64, 67, 0.3), 0px 1px 3px 1px rgba(60, 64, 67, 0.15);\n",
              "      fill: #174EA6;\n",
              "    }\n",
              "\n",
              "    [theme=dark] .colab-df-convert {\n",
              "      background-color: #3B4455;\n",
              "      fill: #D2E3FC;\n",
              "    }\n",
              "\n",
              "    [theme=dark] .colab-df-convert:hover {\n",
              "      background-color: #434B5C;\n",
              "      box-shadow: 0px 1px 3px 1px rgba(0, 0, 0, 0.15);\n",
              "      filter: drop-shadow(0px 1px 2px rgba(0, 0, 0, 0.3));\n",
              "      fill: #FFFFFF;\n",
              "    }\n",
              "  </style>\n",
              "\n",
              "      <script>\n",
              "        const buttonEl =\n",
              "          document.querySelector('#df-117686ca-ffd1-4b6f-a2b5-23911aa6b91b button.colab-df-convert');\n",
              "        buttonEl.style.display =\n",
              "          google.colab.kernel.accessAllowed ? 'block' : 'none';\n",
              "\n",
              "        async function convertToInteractive(key) {\n",
              "          const element = document.querySelector('#df-117686ca-ffd1-4b6f-a2b5-23911aa6b91b');\n",
              "          const dataTable =\n",
              "            await google.colab.kernel.invokeFunction('convertToInteractive',\n",
              "                                                     [key], {});\n",
              "          if (!dataTable) return;\n",
              "\n",
              "          const docLinkHtml = 'Like what you see? Visit the ' +\n",
              "            '<a target=\"_blank\" href=https://colab.research.google.com/notebooks/data_table.ipynb>data table notebook</a>'\n",
              "            + ' to learn more about interactive tables.';\n",
              "          element.innerHTML = '';\n",
              "          dataTable['output_type'] = 'display_data';\n",
              "          await google.colab.output.renderOutput(dataTable, element);\n",
              "          const docLink = document.createElement('div');\n",
              "          docLink.innerHTML = docLinkHtml;\n",
              "          element.appendChild(docLink);\n",
              "        }\n",
              "      </script>\n",
              "    </div>\n",
              "  </div>\n",
              "  "
            ]
          },
          "metadata": {},
          "execution_count": 45
        }
      ]
    },
    {
      "cell_type": "code",
      "execution_count": null,
      "metadata": {
        "colab": {
          "base_uri": "https://localhost:8080/",
          "height": 280
        },
        "id": "a99848cf-ec9e-4830-a433-4e627771895c",
        "outputId": "8bbe8794-c9d6-4ff2-dd84-6f1e6a3bce13"
      },
      "outputs": [
        {
          "output_type": "display_data",
          "data": {
            "text/plain": [
              "<Figure size 432x288 with 1 Axes>"
            ],
            "image/png": "[encoded data removed]"
          },
          "metadata": {
            "needs_background": "light"
          }
        }
      ],
      "source": [
        "#visualizing dataset after converting\n",
        "### START CODE HERE ###\n",
        "plt.scatter('lat_km', 'lng_km', data=dataset, edgecolor='Purple')\n",
        "plt.xlabel('lat_km')\n",
        "plt.ylabel('lng_km')\n",
        "plt.show()\n",
        "\n",
        "### END OF SOLUTION ###"
      ]
    },
    {
      "cell_type": "markdown",
      "metadata": {
        "id": "b0480664-5af7-464f-a21f-e54c5336cb78"
      },
      "source": [
        "<h1> PART3"
      ]
    },
    {
      "cell_type": "markdown",
      "metadata": {
        "id": "70248a58-eafa-4d28-a732-aaa876493667"
      },
      "source": [
        "<h2> 5) converting dataset to numpy array and given point to km"
      ]
    },
    {
      "cell_type": "code",
      "execution_count": null,
      "metadata": {
        "id": "c32107ca-647e-42c6-9b8f-da525ec69fbd"
      },
      "outputs": [],
      "source": [
        "### START CODE HERE ###\n",
        "Lat_point = 44 * 87\n",
        "Lng_point = -1.2 * 110\n",
        "dataset_arr = dataset[['lat_km' , 'lng_km']].to_numpy()\n",
        "### END OF SOLUTION ###"
      ]
    },
    {
      "cell_type": "markdown",
      "metadata": {
        "id": "8b37de95-a6b1-41b4-9595-25c50217ac69"
      },
      "source": [
        "<h2> 6) Finding cities within a radius of 150 km"
      ]
    },
    {
      "cell_type": "code",
      "execution_count": null,
      "metadata": {
        "id": "2ce2e5ca-db8e-49ff-bf76-2b98843b7b5d"
      },
      "outputs": [],
      "source": [
        "### START CODE HERE ###\n",
        "new_data=[]\n",
        "a = 0\n",
        "for x, y in dataset_arr:\n",
        "  if (x-Lat_point)**2 + (y-Lng_point)**2 <= 150**2:\n",
        "      new_data.append(dataset_arr[a])\n",
        "  a+=1\n",
        "\n",
        "\n",
        "### END OF SOLUTION ###\n"
      ]
    },
    {
      "cell_type": "markdown",
      "metadata": {
        "id": "7f342d1d-a5f0-4529-b2bf-f60cc06a69c1"
      },
      "source": [
        "<h2> 7) convert the result to dataframe"
      ]
    },
    {
      "cell_type": "code",
      "execution_count": null,
      "metadata": {
        "id": "b4dbe750-01ae-4520-b1c7-6e66fe99c4a9"
      },
      "outputs": [],
      "source": [
        "### START CODE HERE ###\n",
        "new_dataset=pd.DataFrame(new_data, columns=['lat_km', 'lng_km'])\n",
        "new_dataset=pd.merge(dataset, new_dataset, on=['lat_km', 'lng_km'])\n",
        "### END OF SOLUTION ###"
      ]
    },
    {
      "cell_type": "code",
      "source": [
        "new_dataset"
      ],
      "metadata": {
        "colab": {
          "base_uri": "https://localhost:8080/",
          "height": 424
        },
        "id": "CS1nrfU0hWxs",
        "outputId": "6157be04-0ed5-4a6d-c9fb-e0d98074060a"
      },
      "execution_count": null,
      "outputs": [
        {
          "output_type": "execute_result",
          "data": {
            "text/plain": [
              "                          city      lat     lng     lat_km   lng_km iso2  \\\n",
              "0       Saint-Martin-d’Arrossa  43.2381 -1.3133  3761.7147 -144.463   FR   \n",
              "1                      Coutras  45.0408 -0.1289  3918.5496  -14.179   FR   \n",
              "2                        Bunus  43.2028 -1.0672  3758.6436 -117.392   FR   \n",
              "3                      Plassac  45.4664 -0.5686  3955.5768  -62.546   FR   \n",
              "4                     Mérignas  44.7844 -0.0878  3896.2428   -9.658   FR   \n",
              "...                        ...      ...     ...        ...      ...  ...   \n",
              "1473  Saint-Antoine-du-Queyret  44.7631  0.0097  3894.3897    1.067   FR   \n",
              "1474                Béhorléguy  43.1286 -1.1186  3752.1882 -123.046   FR   \n",
              "1475                 Langoiran  44.7075 -0.4011  3889.5525  -44.121   FR   \n",
              "1476                  Labescau  44.4442 -0.0889  3866.6454   -9.779   FR   \n",
              "1477                 Beautiran  44.7036 -0.4522  3889.2132  -49.742   FR   \n",
              "\n",
              "      density  population  ranking  \n",
              "0        29.2       538.0        3  \n",
              "1       254.7      8582.0        3  \n",
              "2        19.5       129.0        3  \n",
              "3        39.5       612.0        3  \n",
              "4        36.0       344.0        3  \n",
              "...       ...         ...      ...  \n",
              "1473      8.5        58.0        3  \n",
              "1474      3.5        73.0        3  \n",
              "1475    211.0      2140.0        3  \n",
              "1476     20.5       123.0        3  \n",
              "1477    362.4      2301.0        3  \n",
              "\n",
              "[1478 rows x 9 columns]"
            ],
            "text/html": [
              "\n",
              "  <div id=\"df-76b93e9b-4423-4dbf-8dce-672531179db8\">\n",
              "    <div class=\"colab-df-container\">\n",
              "      <div>\n",
              "<style scoped>\n",
              "    .dataframe tbody tr th:only-of-type {\n",
              "        vertical-align: middle;\n",
              "    }\n",
              "\n",
              "    .dataframe tbody tr th {\n",
              "        vertical-align: top;\n",
              "    }\n",
              "\n",
              "    .dataframe thead th {\n",
              "        text-align: right;\n",
              "    }\n",
              "</style>\n",
              "<table border=\"1\" class=\"dataframe\">\n",
              "  <thead>\n",
              "    <tr style=\"text-align: right;\">\n",
              "      <th></th>\n",
              "      <th>city</th>\n",
              "      <th>lat</th>\n",
              "      <th>lng</th>\n",
              "      <th>lat_km</th>\n",
              "      <th>lng_km</th>\n",
              "      <th>iso2</th>\n",
              "      <th>density</th>\n",
              "      <th>population</th>\n",
              "      <th>ranking</th>\n",
              "    </tr>\n",
              "  </thead>\n",
              "  <tbody>\n",
              "    <tr>\n",
              "      <th>0</th>\n",
              "      <td>Saint-Martin-d’Arrossa</td>\n",
              "      <td>43.2381</td>\n",
              "      <td>-1.3133</td>\n",
              "      <td>3761.7147</td>\n",
              "      <td>-144.463</td>\n",
              "      <td>FR</td>\n",
              "      <td>29.2</td>\n",
              "      <td>538.0</td>\n",
              "      <td>3</td>\n",
              "    </tr>\n",
              "    <tr>\n",
              "      <th>1</th>\n",
              "      <td>Coutras</td>\n",
              "      <td>45.0408</td>\n",
              "      <td>-0.1289</td>\n",
              "      <td>3918.5496</td>\n",
              "      <td>-14.179</td>\n",
              "      <td>FR</td>\n",
              "      <td>254.7</td>\n",
              "      <td>8582.0</td>\n",
              "      <td>3</td>\n",
              "    </tr>\n",
              "    <tr>\n",
              "      <th>2</th>\n",
              "      <td>Bunus</td>\n",
              "      <td>43.2028</td>\n",
              "      <td>-1.0672</td>\n",
              "      <td>3758.6436</td>\n",
              "      <td>-117.392</td>\n",
              "      <td>FR</td>\n",
              "      <td>19.5</td>\n",
              "      <td>129.0</td>\n",
              "      <td>3</td>\n",
              "    </tr>\n",
              "    <tr>\n",
              "      <th>3</th>\n",
              "      <td>Plassac</td>\n",
              "      <td>45.4664</td>\n",
              "      <td>-0.5686</td>\n",
              "      <td>3955.5768</td>\n",
              "      <td>-62.546</td>\n",
              "      <td>FR</td>\n",
              "      <td>39.5</td>\n",
              "      <td>612.0</td>\n",
              "      <td>3</td>\n",
              "    </tr>\n",
              "    <tr>\n",
              "      <th>4</th>\n",
              "      <td>Mérignas</td>\n",
              "      <td>44.7844</td>\n",
              "      <td>-0.0878</td>\n",
              "      <td>3896.2428</td>\n",
              "      <td>-9.658</td>\n",
              "      <td>FR</td>\n",
              "      <td>36.0</td>\n",
              "      <td>344.0</td>\n",
              "      <td>3</td>\n",
              "    </tr>\n",
              "    <tr>\n",
              "      <th>...</th>\n",
              "      <td>...</td>\n",
              "      <td>...</td>\n",
              "      <td>...</td>\n",
              "      <td>...</td>\n",
              "      <td>...</td>\n",
              "      <td>...</td>\n",
              "      <td>...</td>\n",
              "      <td>...</td>\n",
              "      <td>...</td>\n",
              "    </tr>\n",
              "    <tr>\n",
              "      <th>1473</th>\n",
              "      <td>Saint-Antoine-du-Queyret</td>\n",
              "      <td>44.7631</td>\n",
              "      <td>0.0097</td>\n",
              "      <td>3894.3897</td>\n",
              "      <td>1.067</td>\n",
              "      <td>FR</td>\n",
              "      <td>8.5</td>\n",
              "      <td>58.0</td>\n",
              "      <td>3</td>\n",
              "    </tr>\n",
              "    <tr>\n",
              "      <th>1474</th>\n",
              "      <td>Béhorléguy</td>\n",
              "      <td>43.1286</td>\n",
              "      <td>-1.1186</td>\n",
              "      <td>3752.1882</td>\n",
              "      <td>-123.046</td>\n",
              "      <td>FR</td>\n",
              "      <td>3.5</td>\n",
              "      <td>73.0</td>\n",
              "      <td>3</td>\n",
              "    </tr>\n",
              "    <tr>\n",
              "      <th>1475</th>\n",
              "      <td>Langoiran</td>\n",
              "      <td>44.7075</td>\n",
              "      <td>-0.4011</td>\n",
              "      <td>3889.5525</td>\n",
              "      <td>-44.121</td>\n",
              "      <td>FR</td>\n",
              "      <td>211.0</td>\n",
              "      <td>2140.0</td>\n",
              "      <td>3</td>\n",
              "    </tr>\n",
              "    <tr>\n",
              "      <th>1476</th>\n",
              "      <td>Labescau</td>\n",
              "      <td>44.4442</td>\n",
              "      <td>-0.0889</td>\n",
              "      <td>3866.6454</td>\n",
              "      <td>-9.779</td>\n",
              "      <td>FR</td>\n",
              "      <td>20.5</td>\n",
              "      <td>123.0</td>\n",
              "      <td>3</td>\n",
              "    </tr>\n",
              "    <tr>\n",
              "      <th>1477</th>\n",
              "      <td>Beautiran</td>\n",
              "      <td>44.7036</td>\n",
              "      <td>-0.4522</td>\n",
              "      <td>3889.2132</td>\n",
              "      <td>-49.742</td>\n",
              "      <td>FR</td>\n",
              "      <td>362.4</td>\n",
              "      <td>2301.0</td>\n",
              "      <td>3</td>\n",
              "    </tr>\n",
              "  </tbody>\n",
              "</table>\n",
              "<p>1478 rows × 9 columns</p>\n",
              "</div>\n",
              "      <button class=\"colab-df-convert\" onclick=\"convertToInteractive('df-76b93e9b-4423-4dbf-8dce-672531179db8')\"\n",
              "              title=\"Convert this dataframe to an interactive table.\"\n",
              "              style=\"display:none;\">\n",
              "        \n",
              "  <svg xmlns=\"http://www.w3.org/2000/svg\" height=\"24px\"viewBox=\"0 0 24 24\"\n",
              "       width=\"24px\">\n",
              "    <path d=\"M0 0h24v24H0V0z\" fill=\"none\"/>\n",
              "    <path d=\"M18.56 5.44l.94 2.06.94-2.06 2.06-.94-2.06-.94-.94-2.06-.94 2.06-2.06.94zm-11 1L8.5 8.5l.94-2.06 2.06-.94-2.06-.94L8.5 2.5l-.94 2.06-2.06.94zm10 10l.94 2.06.94-2.06 2.06-.94-2.06-.94-.94-2.06-.94 2.06-2.06.94z\"/><path d=\"M17.41 7.96l-1.37-1.37c-.4-.4-.92-.59-1.43-.59-.52 0-1.04.2-1.43.59L10.3 9.45l-7.72 7.72c-.78.78-.78 2.05 0 2.83L4 21.41c.39.39.9.59 1.41.59.51 0 1.02-.2 1.41-.59l7.78-7.78 2.81-2.81c.8-.78.8-2.07 0-2.86zM5.41 20L4 18.59l7.72-7.72 1.47 1.35L5.41 20z\"/>\n",
              "  </svg>\n",
              "      </button>\n",
              "      \n",
              "  <style>\n",
              "    .colab-df-container {\n",
              "      display:flex;\n",
              "      flex-wrap:wrap;\n",
              "      gap: 12px;\n",
              "    }\n",
              "\n",
              "    .colab-df-convert {\n",
              "      background-color: #E8F0FE;\n",
              "      border: none;\n",
              "      border-radius: 50%;\n",
              "      cursor: pointer;\n",
              "      display: none;\n",
              "      fill: #1967D2;\n",
              "      height: 32px;\n",
              "      padding: 0 0 0 0;\n",
              "      width: 32px;\n",
              "    }\n",
              "\n",
              "    .colab-df-convert:hover {\n",
              "      background-color: #E2EBFA;\n",
              "      box-shadow: 0px 1px 2px rgba(60, 64, 67, 0.3), 0px 1px 3px 1px rgba(60, 64, 67, 0.15);\n",
              "      fill: #174EA6;\n",
              "    }\n",
              "\n",
              "    [theme=dark] .colab-df-convert {\n",
              "      background-color: #3B4455;\n",
              "      fill: #D2E3FC;\n",
              "    }\n",
              "\n",
              "    [theme=dark] .colab-df-convert:hover {\n",
              "      background-color: #434B5C;\n",
              "      box-shadow: 0px 1px 3px 1px rgba(0, 0, 0, 0.15);\n",
              "      filter: drop-shadow(0px 1px 2px rgba(0, 0, 0, 0.3));\n",
              "      fill: #FFFFFF;\n",
              "    }\n",
              "  </style>\n",
              "\n",
              "      <script>\n",
              "        const buttonEl =\n",
              "          document.querySelector('#df-76b93e9b-4423-4dbf-8dce-672531179db8 button.colab-df-convert');\n",
              "        buttonEl.style.display =\n",
              "          google.colab.kernel.accessAllowed ? 'block' : 'none';\n",
              "\n",
              "        async function convertToInteractive(key) {\n",
              "          const element = document.querySelector('#df-76b93e9b-4423-4dbf-8dce-672531179db8');\n",
              "          const dataTable =\n",
              "            await google.colab.kernel.invokeFunction('convertToInteractive',\n",
              "                                                     [key], {});\n",
              "          if (!dataTable) return;\n",
              "\n",
              "          const docLinkHtml = 'Like what you see? Visit the ' +\n",
              "            '<a target=\"_blank\" href=https://colab.research.google.com/notebooks/data_table.ipynb>data table notebook</a>'\n",
              "            + ' to learn more about interactive tables.';\n",
              "          element.innerHTML = '';\n",
              "          dataTable['output_type'] = 'display_data';\n",
              "          await google.colab.output.renderOutput(dataTable, element);\n",
              "          const docLink = document.createElement('div');\n",
              "          docLink.innerHTML = docLinkHtml;\n",
              "          element.appendChild(docLink);\n",
              "        }\n",
              "      </script>\n",
              "    </div>\n",
              "  </div>\n",
              "  "
            ]
          },
          "metadata": {},
          "execution_count": 51
        }
      ]
    },
    {
      "cell_type": "markdown",
      "metadata": {
        "id": "22c4ed54-0861-4db9-a0d3-26cc8b2d12f1"
      },
      "source": [
        "<h2> 8) Calculate the population density and store it in the pop/dens column"
      ]
    },
    {
      "cell_type": "code",
      "execution_count": null,
      "metadata": {
        "id": "cb591dcf-579b-492f-8d5a-0d51bab17459"
      },
      "outputs": [],
      "source": [
        "### START CODE HERE ###\n",
        "new_dataset['pop / dens'] = new_dataset.population / new_dataset.density\n",
        "### END OF SOLUTION ###"
      ]
    },
    {
      "cell_type": "code",
      "execution_count": null,
      "metadata": {
        "colab": {
          "base_uri": "https://localhost:8080/",
          "height": 424
        },
        "id": "010e7c79-c7e5-42cf-9992-c5d21feded40",
        "outputId": "82ba2aa7-5f5c-43b5-9786-f5f72a52bed8"
      },
      "outputs": [
        {
          "output_type": "execute_result",
          "data": {
            "text/plain": [
              "                          city      lat     lng     lat_km   lng_km iso2  \\\n",
              "0       Saint-Martin-d’Arrossa  43.2381 -1.3133  3761.7147 -144.463   FR   \n",
              "1                      Coutras  45.0408 -0.1289  3918.5496  -14.179   FR   \n",
              "2                        Bunus  43.2028 -1.0672  3758.6436 -117.392   FR   \n",
              "3                      Plassac  45.4664 -0.5686  3955.5768  -62.546   FR   \n",
              "4                     Mérignas  44.7844 -0.0878  3896.2428   -9.658   FR   \n",
              "...                        ...      ...     ...        ...      ...  ...   \n",
              "1473  Saint-Antoine-du-Queyret  44.7631  0.0097  3894.3897    1.067   FR   \n",
              "1474                Béhorléguy  43.1286 -1.1186  3752.1882 -123.046   FR   \n",
              "1475                 Langoiran  44.7075 -0.4011  3889.5525  -44.121   FR   \n",
              "1476                  Labescau  44.4442 -0.0889  3866.6454   -9.779   FR   \n",
              "1477                 Beautiran  44.7036 -0.4522  3889.2132  -49.742   FR   \n",
              "\n",
              "      density  population  ranking  pop / dens  \n",
              "0        29.2       538.0        3   18.424658  \n",
              "1       254.7      8582.0        3   33.694543  \n",
              "2        19.5       129.0        3    6.615385  \n",
              "3        39.5       612.0        3   15.493671  \n",
              "4        36.0       344.0        3    9.555556  \n",
              "...       ...         ...      ...         ...  \n",
              "1473      8.5        58.0        3    6.823529  \n",
              "1474      3.5        73.0        3   20.857143  \n",
              "1475    211.0      2140.0        3   10.142180  \n",
              "1476     20.5       123.0        3    6.000000  \n",
              "1477    362.4      2301.0        3    6.349338  \n",
              "\n",
              "[1478 rows x 10 columns]"
            ],
            "text/html": [
              "\n",
              "  <div id=\"df-1045310f-10bf-4d23-aac6-b214a5f164c9\">\n",
              "    <div class=\"colab-df-container\">\n",
              "      <div>\n",
              "<style scoped>\n",
              "    .dataframe tbody tr th:only-of-type {\n",
              "        vertical-align: middle;\n",
              "    }\n",
              "\n",
              "    .dataframe tbody tr th {\n",
              "        vertical-align: top;\n",
              "    }\n",
              "\n",
              "    .dataframe thead th {\n",
              "        text-align: right;\n",
              "    }\n",
              "</style>\n",
              "<table border=\"1\" class=\"dataframe\">\n",
              "  <thead>\n",
              "    <tr style=\"text-align: right;\">\n",
              "      <th></th>\n",
              "      <th>city</th>\n",
              "      <th>lat</th>\n",
              "      <th>lng</th>\n",
              "      <th>lat_km</th>\n",
              "      <th>lng_km</th>\n",
              "      <th>iso2</th>\n",
              "      <th>density</th>\n",
              "      <th>population</th>\n",
              "      <th>ranking</th>\n",
              "      <th>pop / dens</th>\n",
              "    </tr>\n",
              "  </thead>\n",
              "  <tbody>\n",
              "    <tr>\n",
              "      <th>0</th>\n",
              "      <td>Saint-Martin-d’Arrossa</td>\n",
              "      <td>43.2381</td>\n",
              "      <td>-1.3133</td>\n",
              "      <td>3761.7147</td>\n",
              "      <td>-144.463</td>\n",
              "      <td>FR</td>\n",
              "      <td>29.2</td>\n",
              "      <td>538.0</td>\n",
              "      <td>3</td>\n",
              "      <td>18.424658</td>\n",
              "    </tr>\n",
              "    <tr>\n",
              "      <th>1</th>\n",
              "      <td>Coutras</td>\n",
              "      <td>45.0408</td>\n",
              "      <td>-0.1289</td>\n",
              "      <td>3918.5496</td>\n",
              "      <td>-14.179</td>\n",
              "      <td>FR</td>\n",
              "      <td>254.7</td>\n",
              "      <td>8582.0</td>\n",
              "      <td>3</td>\n",
              "      <td>33.694543</td>\n",
              "    </tr>\n",
              "    <tr>\n",
              "      <th>2</th>\n",
              "      <td>Bunus</td>\n",
              "      <td>43.2028</td>\n",
              "      <td>-1.0672</td>\n",
              "      <td>3758.6436</td>\n",
              "      <td>-117.392</td>\n",
              "      <td>FR</td>\n",
              "      <td>19.5</td>\n",
              "      <td>129.0</td>\n",
              "      <td>3</td>\n",
              "      <td>6.615385</td>\n",
              "    </tr>\n",
              "    <tr>\n",
              "      <th>3</th>\n",
              "      <td>Plassac</td>\n",
              "      <td>45.4664</td>\n",
              "      <td>-0.5686</td>\n",
              "      <td>3955.5768</td>\n",
              "      <td>-62.546</td>\n",
              "      <td>FR</td>\n",
              "      <td>39.5</td>\n",
              "      <td>612.0</td>\n",
              "      <td>3</td>\n",
              "      <td>15.493671</td>\n",
              "    </tr>\n",
              "    <tr>\n",
              "      <th>4</th>\n",
              "      <td>Mérignas</td>\n",
              "      <td>44.7844</td>\n",
              "      <td>-0.0878</td>\n",
              "      <td>3896.2428</td>\n",
              "      <td>-9.658</td>\n",
              "      <td>FR</td>\n",
              "      <td>36.0</td>\n",
              "      <td>344.0</td>\n",
              "      <td>3</td>\n",
              "      <td>9.555556</td>\n",
              "    </tr>\n",
              "    <tr>\n",
              "      <th>...</th>\n",
              "      <td>...</td>\n",
              "      <td>...</td>\n",
              "      <td>...</td>\n",
              "      <td>...</td>\n",
              "      <td>...</td>\n",
              "      <td>...</td>\n",
              "      <td>...</td>\n",
              "      <td>...</td>\n",
              "      <td>...</td>\n",
              "      <td>...</td>\n",
              "    </tr>\n",
              "    <tr>\n",
              "      <th>1473</th>\n",
              "      <td>Saint-Antoine-du-Queyret</td>\n",
              "      <td>44.7631</td>\n",
              "      <td>0.0097</td>\n",
              "      <td>3894.3897</td>\n",
              "      <td>1.067</td>\n",
              "      <td>FR</td>\n",
              "      <td>8.5</td>\n",
              "      <td>58.0</td>\n",
              "      <td>3</td>\n",
              "      <td>6.823529</td>\n",
              "    </tr>\n",
              "    <tr>\n",
              "      <th>1474</th>\n",
              "      <td>Béhorléguy</td>\n",
              "      <td>43.1286</td>\n",
              "      <td>-1.1186</td>\n",
              "      <td>3752.1882</td>\n",
              "      <td>-123.046</td>\n",
              "      <td>FR</td>\n",
              "      <td>3.5</td>\n",
              "      <td>73.0</td>\n",
              "      <td>3</td>\n",
              "      <td>20.857143</td>\n",
              "    </tr>\n",
              "    <tr>\n",
              "      <th>1475</th>\n",
              "      <td>Langoiran</td>\n",
              "      <td>44.7075</td>\n",
              "      <td>-0.4011</td>\n",
              "      <td>3889.5525</td>\n",
              "      <td>-44.121</td>\n",
              "      <td>FR</td>\n",
              "      <td>211.0</td>\n",
              "      <td>2140.0</td>\n",
              "      <td>3</td>\n",
              "      <td>10.142180</td>\n",
              "    </tr>\n",
              "    <tr>\n",
              "      <th>1476</th>\n",
              "      <td>Labescau</td>\n",
              "      <td>44.4442</td>\n",
              "      <td>-0.0889</td>\n",
              "      <td>3866.6454</td>\n",
              "      <td>-9.779</td>\n",
              "      <td>FR</td>\n",
              "      <td>20.5</td>\n",
              "      <td>123.0</td>\n",
              "      <td>3</td>\n",
              "      <td>6.000000</td>\n",
              "    </tr>\n",
              "    <tr>\n",
              "      <th>1477</th>\n",
              "      <td>Beautiran</td>\n",
              "      <td>44.7036</td>\n",
              "      <td>-0.4522</td>\n",
              "      <td>3889.2132</td>\n",
              "      <td>-49.742</td>\n",
              "      <td>FR</td>\n",
              "      <td>362.4</td>\n",
              "      <td>2301.0</td>\n",
              "      <td>3</td>\n",
              "      <td>6.349338</td>\n",
              "    </tr>\n",
              "  </tbody>\n",
              "</table>\n",
              "<p>1478 rows × 10 columns</p>\n",
              "</div>\n",
              "      <button class=\"colab-df-convert\" onclick=\"convertToInteractive('df-1045310f-10bf-4d23-aac6-b214a5f164c9')\"\n",
              "              title=\"Convert this dataframe to an interactive table.\"\n",
              "              style=\"display:none;\">\n",
              "        \n",
              "  <svg xmlns=\"http://www.w3.org/2000/svg\" height=\"24px\"viewBox=\"0 0 24 24\"\n",
              "       width=\"24px\">\n",
              "    <path d=\"M0 0h24v24H0V0z\" fill=\"none\"/>\n",
              "    <path d=\"M18.56 5.44l.94 2.06.94-2.06 2.06-.94-2.06-.94-.94-2.06-.94 2.06-2.06.94zm-11 1L8.5 8.5l.94-2.06 2.06-.94-2.06-.94L8.5 2.5l-.94 2.06-2.06.94zm10 10l.94 2.06.94-2.06 2.06-.94-2.06-.94-.94-2.06-.94 2.06-2.06.94z\"/><path d=\"M17.41 7.96l-1.37-1.37c-.4-.4-.92-.59-1.43-.59-.52 0-1.04.2-1.43.59L10.3 9.45l-7.72 7.72c-.78.78-.78 2.05 0 2.83L4 21.41c.39.39.9.59 1.41.59.51 0 1.02-.2 1.41-.59l7.78-7.78 2.81-2.81c.8-.78.8-2.07 0-2.86zM5.41 20L4 18.59l7.72-7.72 1.47 1.35L5.41 20z\"/>\n",
              "  </svg>\n",
              "      </button>\n",
              "      \n",
              "  <style>\n",
              "    .colab-df-container {\n",
              "      display:flex;\n",
              "      flex-wrap:wrap;\n",
              "      gap: 12px;\n",
              "    }\n",
              "\n",
              "    .colab-df-convert {\n",
              "      background-color: #E8F0FE;\n",
              "      border: none;\n",
              "      border-radius: 50%;\n",
              "      cursor: pointer;\n",
              "      display: none;\n",
              "      fill: #1967D2;\n",
              "      height: 32px;\n",
              "      padding: 0 0 0 0;\n",
              "      width: 32px;\n",
              "    }\n",
              "\n",
              "    .colab-df-convert:hover {\n",
              "      background-color: #E2EBFA;\n",
              "      box-shadow: 0px 1px 2px rgba(60, 64, 67, 0.3), 0px 1px 3px 1px rgba(60, 64, 67, 0.15);\n",
              "      fill: #174EA6;\n",
              "    }\n",
              "\n",
              "    [theme=dark] .colab-df-convert {\n",
              "      background-color: #3B4455;\n",
              "      fill: #D2E3FC;\n",
              "    }\n",
              "\n",
              "    [theme=dark] .colab-df-convert:hover {\n",
              "      background-color: #434B5C;\n",
              "      box-shadow: 0px 1px 3px 1px rgba(0, 0, 0, 0.15);\n",
              "      filter: drop-shadow(0px 1px 2px rgba(0, 0, 0, 0.3));\n",
              "      fill: #FFFFFF;\n",
              "    }\n",
              "  </style>\n",
              "\n",
              "      <script>\n",
              "        const buttonEl =\n",
              "          document.querySelector('#df-1045310f-10bf-4d23-aac6-b214a5f164c9 button.colab-df-convert');\n",
              "        buttonEl.style.display =\n",
              "          google.colab.kernel.accessAllowed ? 'block' : 'none';\n",
              "\n",
              "        async function convertToInteractive(key) {\n",
              "          const element = document.querySelector('#df-1045310f-10bf-4d23-aac6-b214a5f164c9');\n",
              "          const dataTable =\n",
              "            await google.colab.kernel.invokeFunction('convertToInteractive',\n",
              "                                                     [key], {});\n",
              "          if (!dataTable) return;\n",
              "\n",
              "          const docLinkHtml = 'Like what you see? Visit the ' +\n",
              "            '<a target=\"_blank\" href=https://colab.research.google.com/notebooks/data_table.ipynb>data table notebook</a>'\n",
              "            + ' to learn more about interactive tables.';\n",
              "          element.innerHTML = '';\n",
              "          dataTable['output_type'] = 'display_data';\n",
              "          await google.colab.output.renderOutput(dataTable, element);\n",
              "          const docLink = document.createElement('div');\n",
              "          docLink.innerHTML = docLinkHtml;\n",
              "          element.appendChild(docLink);\n",
              "        }\n",
              "      </script>\n",
              "    </div>\n",
              "  </div>\n",
              "  "
            ]
          },
          "metadata": {},
          "execution_count": 53
        }
      ],
      "source": [
        "new_dataset"
      ]
    },
    {
      "cell_type": "markdown",
      "metadata": {
        "id": "716a334e-4aef-4fb3-b7b6-39a4adac8a76"
      },
      "source": [
        "<h1> PART4 : Correlations"
      ]
    },
    {
      "cell_type": "code",
      "execution_count": null,
      "metadata": {
        "colab": {
          "base_uri": "https://localhost:8080/"
        },
        "id": "f6d7e4d1-8d2e-4f94-a371-c7d987b0a568",
        "outputId": "1f4c6667-3b73-4e5b-e601-c1683c73f3bf"
      },
      "outputs": [
        {
          "output_type": "execute_result",
          "data": {
            "text/plain": [
              "PearsonRResult(statistic=0.09305725426428023, pvalue=0.0003405654176013505)"
            ]
          },
          "metadata": {},
          "execution_count": 54
        }
      ],
      "source": [
        "### START CODE HERE ###\n",
        "import scipy.stats as stats\n",
        "# 9) pearson\n",
        "pear1 = stats.pearsonr(new_dataset['pop / dens'], new_dataset['lat'])\n",
        "pear1"
      ]
    },
    {
      "cell_type": "code",
      "source": [
        "# 9) pearson\n",
        "pear2 = stats.pearsonr(new_dataset['population'], new_dataset['density'])\n",
        "pear2"
      ],
      "metadata": {
        "colab": {
          "base_uri": "https://localhost:8080/"
        },
        "id": "OpkRG2wGv52d",
        "outputId": "d22266e1-a9d8-4e3a-f640-a5bd26547114"
      },
      "execution_count": null,
      "outputs": [
        {
          "output_type": "execute_result",
          "data": {
            "text/plain": [
              "PearsonRResult(statistic=0.6942487095093045, pvalue=4.5966787563663275e-213)"
            ]
          },
          "metadata": {},
          "execution_count": 55
        }
      ]
    },
    {
      "cell_type": "code",
      "source": [
        "# 10) spearman\n",
        "spear1 = stats.spearmanr(new_dataset['pop / dens'], new_dataset['lat'])\n",
        "spear1"
      ],
      "metadata": {
        "colab": {
          "base_uri": "https://localhost:8080/"
        },
        "id": "Hexk-ZVYwOpH",
        "outputId": "d9687af6-c5d9-454e-e142-da6680959c59"
      },
      "execution_count": null,
      "outputs": [
        {
          "output_type": "execute_result",
          "data": {
            "text/plain": [
              "SignificanceResult(statistic=0.11307992952240019, pvalue=1.314743803657055e-05)"
            ]
          },
          "metadata": {},
          "execution_count": 56
        }
      ]
    },
    {
      "cell_type": "code",
      "source": [
        "# 10) spearman\n",
        "spear2 = stats.spearmanr(new_dataset['population'], new_dataset['density'])\n",
        "spear2"
      ],
      "metadata": {
        "colab": {
          "base_uri": "https://localhost:8080/"
        },
        "id": "zZp1Mto0wC_d",
        "outputId": "5107c24d-4666-48e5-f9ee-958462a084ef"
      },
      "execution_count": null,
      "outputs": [
        {
          "output_type": "execute_result",
          "data": {
            "text/plain": [
              "SignificanceResult(statistic=0.6949019135441343, pvalue=1.2592658613975068e-213)"
            ]
          },
          "metadata": {},
          "execution_count": 57
        }
      ]
    },
    {
      "cell_type": "code",
      "source": [
        "# 11) kendal tau\n",
        "tau1 = stats.kendalltau(new_dataset['pop / dens'], new_dataset['lat'])\n",
        "tau1"
      ],
      "metadata": {
        "colab": {
          "base_uri": "https://localhost:8080/"
        },
        "id": "cvFx5Irav0Vu",
        "outputId": "c807db72-6875-41db-df5a-c705eb4cb293"
      },
      "execution_count": null,
      "outputs": [
        {
          "output_type": "execute_result",
          "data": {
            "text/plain": [
              "SignificanceResult(statistic=0.0807264217961902, pvalue=3.3318608096234885e-06)"
            ]
          },
          "metadata": {},
          "execution_count": 58
        }
      ]
    },
    {
      "cell_type": "code",
      "source": [
        "# 11) kendal tau\n",
        "tau2 = stats.kendalltau(new_dataset['population'], new_dataset['density'])\n",
        "tau2"
      ],
      "metadata": {
        "colab": {
          "base_uri": "https://localhost:8080/"
        },
        "id": "NAyCPW-2ummY",
        "outputId": "e066bd28-d4b0-434b-d5cd-09e44bcab78e"
      },
      "execution_count": null,
      "outputs": [
        {
          "output_type": "execute_result",
          "data": {
            "text/plain": [
              "SignificanceResult(statistic=0.5124939485787847, pvalue=3.336189469244618e-191)"
            ]
          },
          "metadata": {},
          "execution_count": 59
        }
      ]
    }
  ]
}